{
 "cells": [
  {
   "metadata": {},
   "cell_type": "markdown",
   "source": "Import Mill",
   "id": "12ec36c4665ac64b"
  },
  {
   "metadata": {
    "ExecuteTime": {
     "end_time": "2024-08-28T19:05:24.545092Z",
     "start_time": "2024-08-28T19:05:24.302649Z"
    }
   },
   "cell_type": "code",
   "source": "from millclient import *",
   "id": "2b3002d98f54efec",
   "outputs": [],
   "execution_count": 1
  },
  {
   "metadata": {},
   "cell_type": "markdown",
   "source": [
    "Create channel and client\n",
    "MillService should be runing on locahost:9099 TLS must be disabled"
   ],
   "id": "30c3777079ec043"
  },
  {
   "metadata": {
    "ExecuteTime": {
     "end_time": "2024-08-28T19:05:24.682055Z",
     "start_time": "2024-08-28T19:05:24.678393Z"
    }
   },
   "cell_type": "code",
   "source": [
    "channel = Channel(host = \"localhost\", port = 9099)\n",
    "client = create_client(channel)"
   ],
   "id": "8dbf4e6f3e6ea09",
   "outputs": [],
   "execution_count": 2
  },
  {
   "metadata": {},
   "cell_type": "markdown",
   "source": [
    "Create query and execute to pandas\n",
    "In notebooks only async version of methods can be used"
   ],
   "id": "afb9066a93d91e3f"
  },
  {
   "metadata": {
    "ExecuteTime": {
     "end_time": "2024-08-28T19:05:29.774079Z",
     "start_time": "2024-08-28T19:05:29.487067Z"
    }
   },
   "cell_type": "code",
   "source": [
    "q = client.sql_query(sql = \"select * from `airlines`.`passenger`\", batch_size = 10)\n",
    "pd = await q.to_pandas_async()\n",
    "display(pd.head(10))"
   ],
   "id": "15fb7cab00b4a3c6",
   "outputs": [
    {
     "data": {
      "text/plain": [
       "        id first_name last_name  \\\n",
       "0  7786514      Amber   Mueller   \n",
       "1  1388216   Nicholas   Collier   \n",
       "2  9279837   Lawrence     James   \n",
       "3  9813527  Catherine      Diaz   \n",
       "4  6473243      Danny   Rodgers   \n",
       "5  2777938    William  Campbell   \n",
       "6  4543282      Tyler    Oliver   \n",
       "7  9309584    Stephen    Walker   \n",
       "8  6139045      James   Stewart   \n",
       "9  3549641       Ruth    Cooper   \n",
       "\n",
       "                                    domicile_address domicile_city_id age  \n",
       "0   91566 Barrett Villages\\nPort Ericmouth, VT 08415           377687  44  \n",
       "1    57246 Amanda Ford Apt. 317\\nWest Tara, VT 57681           424085  51  \n",
       "2           2561 Steven Pass\\nJuliechester, MN 58145           374079  24  \n",
       "3           43339 Hess Summit\\nSchmidtside, ME 59213           490603  38  \n",
       "4           018 Sara Valley\\nSouth Deborah, AL 31960           439196  14  \n",
       "5        80965 Sheila Station\\nNathanmouth, CO 29293           194334  23  \n",
       "6   4057 Todd Unions Suite 478\\nWest Brian, NE 01775           490603  68  \n",
       "7              98284 Kyle Place\\nChavezton, VI 68233           374079  75  \n",
       "8  21156 Rebecca Parkway Apt. 632\\nNorth Christin...           374079  24  \n",
       "9  1564 Fowler Street Apt. 142\\nWalkerborough, NV...           394878  36  "
      ],
      "text/html": [
       "<div>\n",
       "<style scoped>\n",
       "    .dataframe tbody tr th:only-of-type {\n",
       "        vertical-align: middle;\n",
       "    }\n",
       "\n",
       "    .dataframe tbody tr th {\n",
       "        vertical-align: top;\n",
       "    }\n",
       "\n",
       "    .dataframe thead th {\n",
       "        text-align: right;\n",
       "    }\n",
       "</style>\n",
       "<table border=\"1\" class=\"dataframe\">\n",
       "  <thead>\n",
       "    <tr style=\"text-align: right;\">\n",
       "      <th></th>\n",
       "      <th>id</th>\n",
       "      <th>first_name</th>\n",
       "      <th>last_name</th>\n",
       "      <th>domicile_address</th>\n",
       "      <th>domicile_city_id</th>\n",
       "      <th>age</th>\n",
       "    </tr>\n",
       "  </thead>\n",
       "  <tbody>\n",
       "    <tr>\n",
       "      <th>0</th>\n",
       "      <td>7786514</td>\n",
       "      <td>Amber</td>\n",
       "      <td>Mueller</td>\n",
       "      <td>91566 Barrett Villages\\nPort Ericmouth, VT 08415</td>\n",
       "      <td>377687</td>\n",
       "      <td>44</td>\n",
       "    </tr>\n",
       "    <tr>\n",
       "      <th>1</th>\n",
       "      <td>1388216</td>\n",
       "      <td>Nicholas</td>\n",
       "      <td>Collier</td>\n",
       "      <td>57246 Amanda Ford Apt. 317\\nWest Tara, VT 57681</td>\n",
       "      <td>424085</td>\n",
       "      <td>51</td>\n",
       "    </tr>\n",
       "    <tr>\n",
       "      <th>2</th>\n",
       "      <td>9279837</td>\n",
       "      <td>Lawrence</td>\n",
       "      <td>James</td>\n",
       "      <td>2561 Steven Pass\\nJuliechester, MN 58145</td>\n",
       "      <td>374079</td>\n",
       "      <td>24</td>\n",
       "    </tr>\n",
       "    <tr>\n",
       "      <th>3</th>\n",
       "      <td>9813527</td>\n",
       "      <td>Catherine</td>\n",
       "      <td>Diaz</td>\n",
       "      <td>43339 Hess Summit\\nSchmidtside, ME 59213</td>\n",
       "      <td>490603</td>\n",
       "      <td>38</td>\n",
       "    </tr>\n",
       "    <tr>\n",
       "      <th>4</th>\n",
       "      <td>6473243</td>\n",
       "      <td>Danny</td>\n",
       "      <td>Rodgers</td>\n",
       "      <td>018 Sara Valley\\nSouth Deborah, AL 31960</td>\n",
       "      <td>439196</td>\n",
       "      <td>14</td>\n",
       "    </tr>\n",
       "    <tr>\n",
       "      <th>5</th>\n",
       "      <td>2777938</td>\n",
       "      <td>William</td>\n",
       "      <td>Campbell</td>\n",
       "      <td>80965 Sheila Station\\nNathanmouth, CO 29293</td>\n",
       "      <td>194334</td>\n",
       "      <td>23</td>\n",
       "    </tr>\n",
       "    <tr>\n",
       "      <th>6</th>\n",
       "      <td>4543282</td>\n",
       "      <td>Tyler</td>\n",
       "      <td>Oliver</td>\n",
       "      <td>4057 Todd Unions Suite 478\\nWest Brian, NE 01775</td>\n",
       "      <td>490603</td>\n",
       "      <td>68</td>\n",
       "    </tr>\n",
       "    <tr>\n",
       "      <th>7</th>\n",
       "      <td>9309584</td>\n",
       "      <td>Stephen</td>\n",
       "      <td>Walker</td>\n",
       "      <td>98284 Kyle Place\\nChavezton, VI 68233</td>\n",
       "      <td>374079</td>\n",
       "      <td>75</td>\n",
       "    </tr>\n",
       "    <tr>\n",
       "      <th>8</th>\n",
       "      <td>6139045</td>\n",
       "      <td>James</td>\n",
       "      <td>Stewart</td>\n",
       "      <td>21156 Rebecca Parkway Apt. 632\\nNorth Christin...</td>\n",
       "      <td>374079</td>\n",
       "      <td>24</td>\n",
       "    </tr>\n",
       "    <tr>\n",
       "      <th>9</th>\n",
       "      <td>3549641</td>\n",
       "      <td>Ruth</td>\n",
       "      <td>Cooper</td>\n",
       "      <td>1564 Fowler Street Apt. 142\\nWalkerborough, NV...</td>\n",
       "      <td>394878</td>\n",
       "      <td>36</td>\n",
       "    </tr>\n",
       "  </tbody>\n",
       "</table>\n",
       "</div>"
      ]
     },
     "metadata": {},
     "output_type": "display_data"
    }
   ],
   "execution_count": 4
  }
 ],
 "metadata": {
  "kernelspec": {
   "display_name": "Python 3",
   "language": "python",
   "name": "python3"
  },
  "language_info": {
   "codemirror_mode": {
    "name": "ipython",
    "version": 2
   },
   "file_extension": ".py",
   "mimetype": "text/x-python",
   "name": "python",
   "nbconvert_exporter": "python",
   "pygments_lexer": "ipython2",
   "version": "2.7.6"
  }
 },
 "nbformat": 4,
 "nbformat_minor": 5
}
