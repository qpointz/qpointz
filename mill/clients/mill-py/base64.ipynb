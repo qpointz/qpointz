{
 "cells": [
  {
   "cell_type": "code",
   "id": "initial_id",
   "metadata": {
    "collapsed": true,
    "ExecuteTime": {
     "end_time": "2024-08-28T19:47:13.140103Z",
     "start_time": "2024-08-28T19:47:13.132491Z"
    }
   },
   "source": [
    "import base64\n",
    "username=\"iamasdfasdfasdfasdfasdf222\"\n",
    "password=\"passwordasdfasdfasdfasdfsafd111\"\n",
    "a = base64.b64encode(f\"{username}:{password}\".encode())\n",
    "print(str(a))\n",
    "print(str(base64.b64decode(a)))"
   ],
   "outputs": [
    {
     "name": "stdout",
     "output_type": "stream",
     "text": [
      "b'aWFtYXNkZmFzZGZhc2RmYXNkZmFzZGYyMjI6cGFzc3dvcmRhc2RmYXNkZmFzZGZhc2Rmc2FmZDExMQ=='\n",
      "b'iamasdfasdfasdfasdfasdf222:passwordasdfasdfasdfasdfsafd111'\n"
     ]
    }
   ],
   "execution_count": 9
  }
 ],
 "metadata": {
  "kernelspec": {
   "display_name": "Python 3",
   "language": "python",
   "name": "python3"
  },
  "language_info": {
   "codemirror_mode": {
    "name": "ipython",
    "version": 2
   },
   "file_extension": ".py",
   "mimetype": "text/x-python",
   "name": "python",
   "nbconvert_exporter": "python",
   "pygments_lexer": "ipython2",
   "version": "2.7.6"
  }
 },
 "nbformat": 4,
 "nbformat_minor": 5
}
