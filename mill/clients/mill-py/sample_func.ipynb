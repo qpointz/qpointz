{
 "cells": [
  {
   "cell_type": "markdown",
   "id": "12ec36c4665ac64b",
   "metadata": {},
   "source": [
    "Import Mill"
   ]
  },
  {
   "cell_type": "code",
   "id": "2b3002d98f54efec",
   "metadata": {
    "ExecuteTime": {
     "end_time": "2024-10-06T13:22:51.569867Z",
     "start_time": "2024-10-06T13:22:50.783405Z"
    }
   },
   "source": [
    "from millclient import *"
   ],
   "outputs": [],
   "execution_count": 1
  },
  {
   "cell_type": "markdown",
   "id": "30c3777079ec043",
   "metadata": {},
   "source": [
    "Create channel and client\n",
    "MillService should be runing on locahost:9099 TLS must be disabled"
   ]
  },
  {
   "cell_type": "code",
   "id": "8dbf4e6f3e6ea09",
   "metadata": {
    "ExecuteTime": {
     "end_time": "2024-10-06T13:22:51.580321Z",
     "start_time": "2024-10-06T13:22:51.576628Z"
    }
   },
   "source": "client = create_client(url=\"http://localhost:7071/api/\")",
   "outputs": [],
   "execution_count": 2
  },
  {
   "cell_type": "markdown",
   "id": "afb9066a93d91e3f",
   "metadata": {},
   "source": [
    "Create query and execute to pandas\n",
    "In notebooks only async version of methods can be used"
   ]
  },
  {
   "cell_type": "code",
   "id": "e9abf6651e699cf6",
   "metadata": {
    "ExecuteTime": {
     "end_time": "2024-10-06T13:22:51.987074Z",
     "start_time": "2024-10-06T13:22:51.681605Z"
    }
   },
   "source": [
    "q1 = await client.sql_query(sql = \"SELECT * FROM `ts`.`TEST` \", fetch_size = 10).to_pandas_async()\n",
    "display(q1.head(10))"
   ],
   "outputs": [
    {
     "data": {
      "text/plain": [
       "   ID  FIRST_NAME                                          LAST_NAME  PREMIUM  \\\n",
       "0   1      Barbee  Bonallick                                     ...     True   \n",
       "1   2       Aldon  Zecchii                                       ...    False   \n",
       "2   3     Kennett  Prozescky                                     ...    False   \n",
       "3   4        Esra  Lukash                                        ...    False   \n",
       "4   5        Enos  Spohr                                         ...    False   \n",
       "5   6      Melita  Iwanowicz                                     ...     True   \n",
       "6   7     Candice  Roubert                                       ...    False   \n",
       "7   8        Iona  Corain                                        ...     True   \n",
       "8   9    Harrison  Minogue                                       ...     True   \n",
       "9  10  Georgeanna  Nimmo                                         ...     True   \n",
       "\n",
       "   AGE  AMOUNT  ACCOUNT  \n",
       "0   15    5654     5016  \n",
       "1    2    3622     6614  \n",
       "2   67    2810     9799  \n",
       "3   75    2019      816  \n",
       "4   85    7387     6381  \n",
       "5   28    6785     9326  \n",
       "6   74    3416     1920  \n",
       "7    6    1702      908  \n",
       "8   78     170     3559  \n",
       "9   21    1792     5810  "
      ],
      "text/html": [
       "<div>\n",
       "<style scoped>\n",
       "    .dataframe tbody tr th:only-of-type {\n",
       "        vertical-align: middle;\n",
       "    }\n",
       "\n",
       "    .dataframe tbody tr th {\n",
       "        vertical-align: top;\n",
       "    }\n",
       "\n",
       "    .dataframe thead th {\n",
       "        text-align: right;\n",
       "    }\n",
       "</style>\n",
       "<table border=\"1\" class=\"dataframe\">\n",
       "  <thead>\n",
       "    <tr style=\"text-align: right;\">\n",
       "      <th></th>\n",
       "      <th>ID</th>\n",
       "      <th>FIRST_NAME</th>\n",
       "      <th>LAST_NAME</th>\n",
       "      <th>PREMIUM</th>\n",
       "      <th>AGE</th>\n",
       "      <th>AMOUNT</th>\n",
       "      <th>ACCOUNT</th>\n",
       "    </tr>\n",
       "  </thead>\n",
       "  <tbody>\n",
       "    <tr>\n",
       "      <th>0</th>\n",
       "      <td>1</td>\n",
       "      <td>Barbee</td>\n",
       "      <td>Bonallick                                     ...</td>\n",
       "      <td>True</td>\n",
       "      <td>15</td>\n",
       "      <td>5654</td>\n",
       "      <td>5016</td>\n",
       "    </tr>\n",
       "    <tr>\n",
       "      <th>1</th>\n",
       "      <td>2</td>\n",
       "      <td>Aldon</td>\n",
       "      <td>Zecchii                                       ...</td>\n",
       "      <td>False</td>\n",
       "      <td>2</td>\n",
       "      <td>3622</td>\n",
       "      <td>6614</td>\n",
       "    </tr>\n",
       "    <tr>\n",
       "      <th>2</th>\n",
       "      <td>3</td>\n",
       "      <td>Kennett</td>\n",
       "      <td>Prozescky                                     ...</td>\n",
       "      <td>False</td>\n",
       "      <td>67</td>\n",
       "      <td>2810</td>\n",
       "      <td>9799</td>\n",
       "    </tr>\n",
       "    <tr>\n",
       "      <th>3</th>\n",
       "      <td>4</td>\n",
       "      <td>Esra</td>\n",
       "      <td>Lukash                                        ...</td>\n",
       "      <td>False</td>\n",
       "      <td>75</td>\n",
       "      <td>2019</td>\n",
       "      <td>816</td>\n",
       "    </tr>\n",
       "    <tr>\n",
       "      <th>4</th>\n",
       "      <td>5</td>\n",
       "      <td>Enos</td>\n",
       "      <td>Spohr                                         ...</td>\n",
       "      <td>False</td>\n",
       "      <td>85</td>\n",
       "      <td>7387</td>\n",
       "      <td>6381</td>\n",
       "    </tr>\n",
       "    <tr>\n",
       "      <th>5</th>\n",
       "      <td>6</td>\n",
       "      <td>Melita</td>\n",
       "      <td>Iwanowicz                                     ...</td>\n",
       "      <td>True</td>\n",
       "      <td>28</td>\n",
       "      <td>6785</td>\n",
       "      <td>9326</td>\n",
       "    </tr>\n",
       "    <tr>\n",
       "      <th>6</th>\n",
       "      <td>7</td>\n",
       "      <td>Candice</td>\n",
       "      <td>Roubert                                       ...</td>\n",
       "      <td>False</td>\n",
       "      <td>74</td>\n",
       "      <td>3416</td>\n",
       "      <td>1920</td>\n",
       "    </tr>\n",
       "    <tr>\n",
       "      <th>7</th>\n",
       "      <td>8</td>\n",
       "      <td>Iona</td>\n",
       "      <td>Corain                                        ...</td>\n",
       "      <td>True</td>\n",
       "      <td>6</td>\n",
       "      <td>1702</td>\n",
       "      <td>908</td>\n",
       "    </tr>\n",
       "    <tr>\n",
       "      <th>8</th>\n",
       "      <td>9</td>\n",
       "      <td>Harrison</td>\n",
       "      <td>Minogue                                       ...</td>\n",
       "      <td>True</td>\n",
       "      <td>78</td>\n",
       "      <td>170</td>\n",
       "      <td>3559</td>\n",
       "    </tr>\n",
       "    <tr>\n",
       "      <th>9</th>\n",
       "      <td>10</td>\n",
       "      <td>Georgeanna</td>\n",
       "      <td>Nimmo                                         ...</td>\n",
       "      <td>True</td>\n",
       "      <td>21</td>\n",
       "      <td>1792</td>\n",
       "      <td>5810</td>\n",
       "    </tr>\n",
       "  </tbody>\n",
       "</table>\n",
       "</div>"
      ]
     },
     "metadata": {},
     "output_type": "display_data"
    }
   ],
   "execution_count": 3
  },
  {
   "cell_type": "code",
   "id": "fb54516722a9bdd0",
   "metadata": {
    "ExecuteTime": {
     "end_time": "2024-10-06T13:22:52.001031Z",
     "start_time": "2024-10-06T13:22:51.998486Z"
    }
   },
   "source": [],
   "outputs": [],
   "execution_count": null
  }
 ],
 "metadata": {
  "kernelspec": {
   "display_name": "Python 3 (ipykernel)",
   "language": "python",
   "name": "python3"
  },
  "language_info": {
   "codemirror_mode": {
    "name": "ipython",
    "version": 3
   },
   "file_extension": ".py",
   "mimetype": "text/x-python",
   "name": "python",
   "nbconvert_exporter": "python",
   "pygments_lexer": "ipython3",
   "version": "3.10.12"
  }
 },
 "nbformat": 4,
 "nbformat_minor": 5
}
